{
  "cells": [
    {
      "cell_type": "markdown",
      "metadata": {},
      "source": [
        "    ---\n",
        "    title: R Example\n",
        "    engine: knitr\n",
        "    format: live-html\n",
        "    ---\n",
        "\n",
        "    {{< include ./_extensions/r-wasm/live/_knitr.qmd >}}\n",
        "\n",
        "```{webr}\n",
        "for (x in 1:5) {\n",
        "  print(10 + x)\n",
        "}\n",
        "```"
      ],
      "id": "fb569018"
    }
  ],
  "metadata": {
    "kernelspec": {
      "display_name": "Python 3",
      "language": "python",
      "name": "python3"
    }
  },
  "nbformat": 4,
  "nbformat_minor": 5
}